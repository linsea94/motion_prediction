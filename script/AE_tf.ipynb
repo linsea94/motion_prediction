{
 "cells": [
  {
   "cell_type": "code",
   "execution_count": 1,
   "metadata": {},
   "outputs": [
    {
     "name": "stderr",
     "output_type": "stream",
     "text": [
      "2022-09-29 18:04:47.822272: I tensorflow/core/platform/cpu_feature_guard.cc:193] This TensorFlow binary is optimized with oneAPI Deep Neural Network Library (oneDNN) to use the following CPU instructions in performance-critical operations:  AVX2 AVX512F AVX512_VNNI FMA\n",
      "To enable them in other operations, rebuild TensorFlow with the appropriate compiler flags.\n",
      "2022-09-29 18:04:48.033139: I tensorflow/core/util/util.cc:169] oneDNN custom operations are on. You may see slightly different numerical results due to floating-point round-off errors from different computation orders. To turn them off, set the environment variable `TF_ENABLE_ONEDNN_OPTS=0`.\n",
      "2022-09-29 18:04:48.083117: E tensorflow/stream_executor/cuda/cuda_blas.cc:2981] Unable to register cuBLAS factory: Attempting to register factory for plugin cuBLAS when one has already been registered\n",
      "2022-09-29 18:04:48.965524: W tensorflow/stream_executor/platform/default/dso_loader.cc:64] Could not load dynamic library 'libnvinfer.so.7'; dlerror: libnvinfer.so.7: cannot open shared object file: No such file or directory; LD_LIBRARY_PATH: /opt/ros/noetic/lib::/usr/local/cuda/lib64\n",
      "2022-09-29 18:04:48.965663: W tensorflow/stream_executor/platform/default/dso_loader.cc:64] Could not load dynamic library 'libnvinfer_plugin.so.7'; dlerror: libnvinfer_plugin.so.7: cannot open shared object file: No such file or directory; LD_LIBRARY_PATH: /opt/ros/noetic/lib::/usr/local/cuda/lib64\n",
      "2022-09-29 18:04:48.965673: W tensorflow/compiler/tf2tensorrt/utils/py_utils.cc:38] TF-TRT Warning: Cannot dlopen some TensorRT libraries. If you would like to use Nvidia GPU with TensorRT, please make sure the missing libraries mentioned above are installed properly.\n"
     ]
    }
   ],
   "source": [
    "from glob import glob\n",
    "import pandas as pd\n",
    "import numpy as np\n",
    "import os\n",
    "import keras\n",
    "import cv2\n",
    "from keras.regularizers import l2\n",
    "from keras.layers import Dropout, Flatten, TimeDistributed, RepeatVector\n",
    "from keras.layers import Dense, Activation,  LSTM, concatenate, Concatenate, Conv2D, Conv2DTranspose\n",
    "from keras.layers.normalization.batch_normalization import BatchNormalization\n",
    "from keras.optimizers import Adam\n",
    "from keras.callbacks import EarlyStopping, ModelCheckpoint\n",
    "import matplotlib.pyplot as plt\n",
    "%matplotlib inline"
   ]
  },
  {
   "cell_type": "code",
   "execution_count": 2,
   "metadata": {},
   "outputs": [
    {
     "name": "stdout",
     "output_type": "stream",
     "text": [
      "1424\n"
     ]
    }
   ],
   "source": [
    "folder = \"/home/linsea/motion_ws/src/motion_prediction/data/ETH/\"\n",
    "\n",
    "file_num = 7122\n",
    "test_rate = 0.2\n",
    "map_size = 20\n",
    "test_num = int(file_num * test_rate)\n",
    "print(test_num)\n",
    "index = 0\n",
    "Map_train, Map_test = [], []\n"
   ]
  },
  {
   "cell_type": "code",
   "execution_count": 3,
   "metadata": {},
   "outputs": [],
   "source": [
    "img = cv2.imread('/home/linsea/motion_ws/src/motion_prediction/data/ETH/map.png')\n",
    "img = cv2.cvtColor(img,cv2.COLOR_BGR2GRAY)\n",
    "lim_x = img.shape[0]\n",
    "lim_y = img.shape[1]\n",
    "img_feature = []\n",
    "\n",
    "for i in range(0, lim_x - map_size):\n",
    "  for j in range(0, lim_y - map_size):\n",
    "    crop_img = img[i:i+map_size, j:j+map_size] / 255\n",
    "    img_feature.append(crop_img)\n",
    "\n",
    "img_feature = np.array(img_feature)\n",
    "# img_feature = np.random.shuffle(img_feature)\n",
    "    "
   ]
  },
  {
   "cell_type": "code",
   "execution_count": 4,
   "metadata": {},
   "outputs": [
    {
     "data": {
      "text/plain": [
       "(285200, 20, 20)"
      ]
     },
     "execution_count": 4,
     "metadata": {},
     "output_type": "execute_result"
    }
   ],
   "source": [
    "img_feature.shape"
   ]
  },
  {
   "cell_type": "code",
   "execution_count": 5,
   "metadata": {},
   "outputs": [
    {
     "name": "stdout",
     "output_type": "stream",
     "text": [
      "1000\n",
      "2000\n",
      "3000\n",
      "4000\n",
      "5000\n",
      "6000\n",
      "7000\n",
      "8000\n",
      "9000\n",
      "10000\n",
      "11000\n",
      "12000\n",
      "13000\n",
      "14000\n",
      "15000\n",
      "16000\n",
      "17000\n",
      "18000\n",
      "19000\n",
      "20000\n",
      "21000\n",
      "22000\n",
      "23000\n",
      "24000\n",
      "25000\n",
      "26000\n",
      "27000\n",
      "28000\n",
      "29000\n",
      "30000\n",
      "31000\n",
      "32000\n",
      "33000\n",
      "34000\n",
      "35000\n",
      "36000\n",
      "37000\n",
      "38000\n",
      "39000\n",
      "40000\n",
      "41000\n",
      "42000\n",
      "43000\n",
      "44000\n",
      "45000\n",
      "46000\n",
      "47000\n",
      "48000\n",
      "49000\n",
      "50000\n",
      "51000\n",
      "52000\n",
      "53000\n",
      "54000\n",
      "55000\n",
      "56000\n",
      "57000\n",
      "58000\n",
      "59000\n",
      "60000\n",
      "61000\n",
      "62000\n",
      "63000\n",
      "64000\n",
      "65000\n",
      "66000\n",
      "67000\n",
      "68000\n",
      "69000\n",
      "70000\n",
      "71000\n",
      "72000\n",
      "73000\n",
      "74000\n",
      "75000\n",
      "76000\n",
      "77000\n",
      "78000\n",
      "79000\n",
      "80000\n",
      "81000\n",
      "82000\n",
      "83000\n",
      "84000\n",
      "85000\n",
      "86000\n",
      "87000\n",
      "88000\n",
      "89000\n",
      "90000\n",
      "91000\n",
      "92000\n",
      "93000\n",
      "94000\n",
      "95000\n",
      "96000\n",
      "97000\n",
      "98000\n",
      "99000\n",
      "100000\n",
      "101000\n",
      "102000\n",
      "103000\n",
      "104000\n",
      "105000\n",
      "106000\n",
      "107000\n",
      "108000\n",
      "109000\n",
      "110000\n",
      "111000\n",
      "112000\n",
      "113000\n",
      "114000\n",
      "115000\n",
      "116000\n",
      "117000\n",
      "118000\n",
      "119000\n",
      "120000\n",
      "121000\n",
      "122000\n",
      "123000\n",
      "124000\n",
      "125000\n",
      "126000\n",
      "127000\n",
      "128000\n",
      "129000\n",
      "130000\n",
      "131000\n",
      "132000\n",
      "133000\n",
      "134000\n",
      "135000\n",
      "136000\n",
      "137000\n",
      "138000\n",
      "139000\n",
      "140000\n",
      "141000\n",
      "142000\n",
      "143000\n",
      "144000\n",
      "145000\n",
      "146000\n",
      "147000\n",
      "148000\n",
      "149000\n",
      "150000\n",
      "151000\n",
      "152000\n",
      "153000\n",
      "154000\n",
      "155000\n",
      "156000\n",
      "157000\n",
      "158000\n",
      "159000\n",
      "160000\n",
      "161000\n",
      "162000\n",
      "163000\n",
      "164000\n",
      "165000\n",
      "166000\n",
      "167000\n",
      "168000\n",
      "169000\n",
      "170000\n",
      "171000\n",
      "172000\n",
      "173000\n",
      "174000\n",
      "175000\n",
      "176000\n",
      "177000\n",
      "178000\n",
      "179000\n",
      "180000\n",
      "181000\n",
      "182000\n",
      "183000\n",
      "184000\n",
      "185000\n",
      "186000\n",
      "187000\n",
      "188000\n",
      "189000\n",
      "190000\n",
      "191000\n",
      "192000\n",
      "193000\n",
      "194000\n",
      "195000\n",
      "196000\n",
      "197000\n",
      "198000\n",
      "199000\n",
      "200000\n",
      "201000\n",
      "202000\n",
      "203000\n",
      "204000\n",
      "205000\n",
      "206000\n",
      "207000\n",
      "208000\n",
      "209000\n",
      "210000\n",
      "211000\n",
      "212000\n",
      "213000\n",
      "214000\n",
      "215000\n",
      "216000\n",
      "217000\n",
      "218000\n",
      "219000\n",
      "220000\n",
      "221000\n",
      "222000\n",
      "223000\n",
      "224000\n",
      "225000\n",
      "226000\n",
      "227000\n",
      "228000\n",
      "229000\n",
      "230000\n",
      "231000\n",
      "232000\n",
      "233000\n",
      "234000\n",
      "235000\n",
      "236000\n",
      "237000\n",
      "238000\n",
      "239000\n",
      "240000\n",
      "241000\n",
      "242000\n",
      "243000\n",
      "244000\n",
      "245000\n",
      "246000\n",
      "247000\n",
      "248000\n",
      "249000\n",
      "250000\n",
      "251000\n",
      "252000\n",
      "253000\n",
      "254000\n",
      "255000\n",
      "256000\n",
      "257000\n",
      "258000\n",
      "259000\n",
      "260000\n",
      "261000\n",
      "262000\n",
      "263000\n",
      "264000\n",
      "265000\n",
      "266000\n",
      "267000\n",
      "268000\n",
      "269000\n",
      "270000\n",
      "271000\n",
      "272000\n",
      "273000\n",
      "274000\n",
      "275000\n",
      "276000\n",
      "277000\n",
      "278000\n",
      "279000\n",
      "280000\n",
      "281000\n",
      "282000\n",
      "283000\n",
      "284000\n",
      "285000\n"
     ]
    }
   ],
   "source": [
    "test_num = int(img_feature.shape[0] * test_rate)\n",
    "for i in range(len(img_feature)):\n",
    "  index +=1\n",
    "  if index % 1000 == 0:\n",
    "    print(index)\n",
    "  if i > test_num:\n",
    "    Map_train.append(img_feature[i])\n",
    "  else:\n",
    "    Map_test.append(img_feature[i])\n",
    "Map_train = np.array(Map_train)\n",
    "Map_test = np.array(Map_test)"
   ]
  },
  {
   "cell_type": "code",
   "execution_count": 6,
   "metadata": {},
   "outputs": [
    {
     "name": "stdout",
     "output_type": "stream",
     "text": [
      "map_info:\t\t (228159, 20, 20)\n",
      "map test info:\t\t (57041, 20, 20)\n"
     ]
    }
   ],
   "source": [
    "print('map_info:\\t\\t', Map_train.shape)\n",
    "print('map test info:\\t\\t', Map_test.shape)"
   ]
  },
  {
   "cell_type": "code",
   "execution_count": 7,
   "metadata": {},
   "outputs": [],
   "source": [
    "epochs = 10\n",
    "lr = 0.001\n",
    "batch_size = 1024\n",
    "regulizer = l2(lr)"
   ]
  },
  {
   "cell_type": "code",
   "execution_count": 8,
   "metadata": {},
   "outputs": [
    {
     "name": "stderr",
     "output_type": "stream",
     "text": [
      "2022-09-29 18:04:56.308759: I tensorflow/stream_executor/cuda/cuda_gpu_executor.cc:980] successful NUMA node read from SysFS had negative value (-1), but there must be at least one NUMA node, so returning NUMA node zero\n",
      "2022-09-29 18:04:56.317041: I tensorflow/stream_executor/cuda/cuda_gpu_executor.cc:980] successful NUMA node read from SysFS had negative value (-1), but there must be at least one NUMA node, so returning NUMA node zero\n",
      "2022-09-29 18:04:56.318406: I tensorflow/stream_executor/cuda/cuda_gpu_executor.cc:980] successful NUMA node read from SysFS had negative value (-1), but there must be at least one NUMA node, so returning NUMA node zero\n",
      "2022-09-29 18:04:56.320557: I tensorflow/core/platform/cpu_feature_guard.cc:193] This TensorFlow binary is optimized with oneAPI Deep Neural Network Library (oneDNN) to use the following CPU instructions in performance-critical operations:  AVX2 AVX512F AVX512_VNNI FMA\n",
      "To enable them in other operations, rebuild TensorFlow with the appropriate compiler flags.\n"
     ]
    },
    {
     "name": "stdout",
     "output_type": "stream",
     "text": [
      "Model: \"model\"\n",
      "_________________________________________________________________\n",
      " Layer (type)                Output Shape              Param #   \n",
      "=================================================================\n",
      " map (InputLayer)            [(None, 20, 20, 1)]       0         \n",
      "                                                                 \n",
      " conv2d (Conv2D)             (None, 10, 10, 64)        1664      \n",
      "                                                                 \n",
      " conv2d_1 (Conv2D)           (None, 5, 5, 32)          18464     \n",
      "                                                                 \n",
      " conv2d_2 (Conv2D)           (None, 3, 3, 8)           2312      \n",
      "                                                                 \n",
      " dense (Dense)               (None, 3, 3, 64)          576       \n",
      "                                                                 \n",
      " dense_1 (Dense)             (None, 3, 3, 64)          4160      \n",
      "                                                                 \n",
      " conv2d_transpose (Conv2DTra  (None, 6, 6, 8)          4616      \n",
      " nspose)                                                         \n",
      "                                                                 \n",
      " conv2d_transpose_1 (Conv2DT  (None, 12, 12, 32)       2336      \n",
      " ranspose)                                                       \n",
      "                                                                 \n",
      " conv2d_transpose_2 (Conv2DT  (None, 24, 24, 64)       51264     \n",
      " ranspose)                                                       \n",
      "                                                                 \n",
      " conv2d_3 (Conv2D)           (None, 20, 20, 1)         1601      \n",
      "                                                                 \n",
      "=================================================================\n",
      "Total params: 86,993\n",
      "Trainable params: 86,993\n"
     ]
    },
    {
     "name": "stderr",
     "output_type": "stream",
     "text": [
      "2022-09-29 18:04:56.321532: I tensorflow/stream_executor/cuda/cuda_gpu_executor.cc:980] successful NUMA node read from SysFS had negative value (-1), but there must be at least one NUMA node, so returning NUMA node zero\n",
      "2022-09-29 18:04:56.322149: I tensorflow/stream_executor/cuda/cuda_gpu_executor.cc:980] successful NUMA node read from SysFS had negative value (-1), but there must be at least one NUMA node, so returning NUMA node zero\n",
      "2022-09-29 18:04:56.322663: I tensorflow/stream_executor/cuda/cuda_gpu_executor.cc:980] successful NUMA node read from SysFS had negative value (-1), but there must be at least one NUMA node, so returning NUMA node zero\n",
      "2022-09-29 18:04:56.795564: I tensorflow/stream_executor/cuda/cuda_gpu_executor.cc:980] successful NUMA node read from SysFS had negative value (-1), but there must be at least one NUMA node, so returning NUMA node zero\n",
      "2022-09-29 18:04:56.796165: I tensorflow/stream_executor/cuda/cuda_gpu_executor.cc:980] successful NUMA node read from SysFS had negative value (-1), but there must be at least one NUMA node, so returning NUMA node zero\n",
      "2022-09-29 18:04:56.796662: I tensorflow/stream_executor/cuda/cuda_gpu_executor.cc:980] successful NUMA node read from SysFS had negative value (-1), but there must be at least one NUMA node, so returning NUMA node zero\n",
      "2022-09-29 18:04:56.797077: I tensorflow/core/common_runtime/gpu/gpu_device.cc:1616] Created device /job:localhost/replica:0/task:0/device:GPU:0 with 4053 MB memory:  -> device: 0, name: NVIDIA GeForce RTX 3060 Laptop GPU, pci bus id: 0000:01:00.0, compute capability: 8.6\n"
     ]
    },
    {
     "name": "stdout",
     "output_type": "stream",
     "text": [
      "Non-trainable params: 0\n",
      "_________________________________________________________________\n"
     ]
    }
   ],
   "source": [
    "map_input = keras.Input(shape=( 20, 20,1), name= 'map')\n",
    "ae = Conv2D( 64, 5, activation='relu', kernel_regularizer=regulizer,\\\n",
    "             bias_regularizer=regulizer, strides=2, padding=\"same\")(map_input)\n",
    "ae = Conv2D( 32, 3, activation='relu', kernel_regularizer=regulizer,\\\n",
    "             bias_regularizer=regulizer, strides=2, padding=\"same\")(ae)\n",
    "ae = Conv2D(  8, 3, activation='relu', kernel_regularizer=regulizer,\\\n",
    "             bias_regularizer=regulizer, strides=2, padding=\"same\")(ae)\n",
    "ae = Dense( 64, activation='relu', kernel_regularizer=regulizer,\\\n",
    "             bias_regularizer=regulizer,)(ae)\n",
    "\n",
    "ae = Dense( 64, activation='relu', kernel_regularizer=regulizer,\\\n",
    "             bias_regularizer=regulizer,)(ae)\n",
    "# ae = Conv2DTranspose(  8, 1, activation='relu', kernel_regularizer=regulizer,\\\n",
    "#              bias_regularizer=regulizer, strides=2, padding=\"same\")(ae)\n",
    "ae = Conv2DTranspose(  8, 3, activation='relu', kernel_regularizer=regulizer,\\\n",
    "             bias_regularizer=regulizer, strides=2, padding=\"same\")(ae)\n",
    "ae = Conv2DTranspose( 32, 3, activation='relu', kernel_regularizer=regulizer,\\\n",
    "             bias_regularizer=regulizer, strides=2, padding=\"same\")(ae)\n",
    "ae = Conv2DTranspose( 64, 5, activation='relu', kernel_regularizer=regulizer,\\\n",
    "             bias_regularizer=regulizer, strides=2, padding=\"same\")(ae)\n",
    "             \n",
    "ae = Conv2D(1, (5, 5), activation=\"sigmoid\")(ae)\n",
    "\n",
    "model = keras.Model(inputs = [map_input], outputs = [ae])\n",
    "\n",
    "model.compile(\n",
    "    optimizer = Adam(lr),\n",
    "    loss=keras.losses.MeanSquaredError(),\n",
    ")\n",
    "\n",
    "model.summary()\n"
   ]
  },
  {
   "cell_type": "code",
   "execution_count": 9,
   "metadata": {},
   "outputs": [
    {
     "data": {
      "image/png": "[encoded data removed]",
      "text/plain": [
       "<IPython.core.display.Image object>"
      ]
     },
     "execution_count": 9,
     "metadata": {},
     "output_type": "execute_result"
    }
   ],
   "source": [
    "keras.utils.plot_model(model, \"AE.png\", show_shapes=True)"
   ]
  },
  {
   "cell_type": "code",
   "execution_count": 10,
   "metadata": {},
   "outputs": [
    {
     "name": "stdout",
     "output_type": "stream",
     "text": [
      "Epoch 1/10\n"
     ]
    },
    {
     "name": "stderr",
     "output_type": "stream",
     "text": [
      "2022-09-29 18:05:00.280100: I tensorflow/stream_executor/cuda/cuda_dnn.cc:384] Loaded cuDNN version 8204\n",
      "2022-09-29 18:05:01.735080: I tensorflow/stream_executor/cuda/cuda_blas.cc:1614] TensorFloat-32 will be used for the matrix multiplication. This will only be logged once.\n"
     ]
    },
    {
     "name": "stdout",
     "output_type": "stream",
     "text": [
      "179/179 [==============================] - 15s 63ms/step - loss: 0.0886 - val_loss: 0.0354\n",
      "Epoch 2/10\n",
      "179/179 [==============================] - 10s 58ms/step - loss: 0.0177 - val_loss: 0.0301\n",
      "Epoch 3/10\n",
      "179/179 [==============================] - 10s 58ms/step - loss: 0.0161 - val_loss: 0.0298\n",
      "Epoch 4/10\n",
      "179/179 [==============================] - 10s 58ms/step - loss: 0.0161 - val_loss: 0.0299\n",
      "Epoch 5/10\n",
      "179/179 [==============================] - 11s 60ms/step - loss: 0.0160 - val_loss: 0.0299\n",
      "Epoch 6/10\n",
      "179/179 [==============================] - 10s 58ms/step - loss: 0.0160 - val_loss: 0.0298\n",
      "Epoch 7/10\n",
      "179/179 [==============================] - 10s 58ms/step - loss: 0.0160 - val_loss: 0.0299\n",
      "Epoch 8/10\n",
      "179/179 [==============================] - 10s 59ms/step - loss: 0.0160 - val_loss: 0.0298\n",
      "Epoch 9/10\n",
      "179/179 [==============================] - 11s 59ms/step - loss: 0.0160 - val_loss: 0.0298\n",
      "Epoch 10/10\n",
      "179/179 [==============================] - 10s 59ms/step - loss: 0.0160 - val_loss: 0.0299\n"
     ]
    },
    {
     "data": {
      "text/plain": [
       "<keras.callbacks.History at 0x7fae21f4fbe0>"
      ]
     },
     "execution_count": 10,
     "metadata": {},
     "output_type": "execute_result"
    }
   ],
   "source": [
    "map_data = Map_train\n",
    "\n",
    "model.fit(\n",
    "  x=map_data,\n",
    "  y=map_data,\n",
    "  epochs = epochs,\n",
    "  batch_size = batch_size,\n",
    "  validation_split=0.2,\n",
    ")\n"
   ]
  },
  {
   "cell_type": "code",
   "execution_count": 11,
   "metadata": {},
   "outputs": [
    {
     "name": "stdout",
     "output_type": "stream",
     "text": [
      "1783/1783 [==============================] - 4s 2ms/step\n",
      "1783/1783 [==============================] - 6s 3ms/step - loss: 2.7763e-04\n"
     ]
    }
   ],
   "source": [
    "preds = model.predict(Map_test)\n",
    "loss_metrics = model.evaluate(Map_test, Map_test)"
   ]
  },
  {
   "cell_type": "code",
   "execution_count": null,
   "metadata": {},
   "outputs": [],
   "source": [
    "model.save('AE.h5')\n"
   ]
  },
  {
   "cell_type": "code",
   "execution_count": 18,
   "metadata": {},
   "outputs": [],
   "source": [
    "test = Map_test[0].reshape(1,20,20,1)"
   ]
  },
  {
   "cell_type": "code",
   "execution_count": 21,
   "metadata": {},
   "outputs": [
    {
     "name": "stdout",
     "output_type": "stream",
     "text": [
      "(1, 20, 20, 1)\n"
     ]
    }
   ],
   "source": [
    "print(test.shape)"
   ]
  },
  {
   "cell_type": "code",
   "execution_count": 22,
   "metadata": {},
   "outputs": [],
   "source": [
    "prediction = model(test)"
   ]
  },
  {
   "cell_type": "code",
   "execution_count": null,
   "metadata": {},
   "outputs": [],
   "source": []
  }
 ],
 "metadata": {
  "kernelspec": {
   "display_name": "Python 3.8.10 64-bit",
   "language": "python",
   "name": "python3"
  },
  "language_info": {
   "codemirror_mode": {
    "name": "ipython",
    "version": 3
   },
   "file_extension": ".py",
   "mimetype": "text/x-python",
   "name": "python",
   "nbconvert_exporter": "python",
   "pygments_lexer": "ipython3",
   "version": "3.8.10"
  },
  "orig_nbformat": 4,
  "vscode": {
   "interpreter": {
    "hash": "31f2aee4e71d21fbe5cf8b01ff0e069b9275f58929596ceb00d14d90e3e16cd6"
   }
  }
 },
 "nbformat": 4,
 "nbformat_minor": 2
}
