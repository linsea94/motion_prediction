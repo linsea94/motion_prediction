{
 "cells": [
  {
   "cell_type": "code",
   "execution_count": 1,
   "metadata": {},
   "outputs": [],
   "source": [
    "import os\n",
    "import numpy as np\n",
    "import pandas as pd\n",
    "import math\n",
    "import matplotlib.pyplot as plt\n",
    "import matplotlib.image as mpimg\n",
    "import cv2"
   ]
  },
  {
   "cell_type": "code",
   "execution_count": 18,
   "metadata": {},
   "outputs": [],
   "source": [
    "def world2image(traj_w, H_inv):    \n",
    "    # Converts points from Euclidean to homogeneous space, by (x, y) → (x, y, 1)\n",
    "    traj_homog = np.hstack((traj_w, np.ones((traj_w.shape[0], 1)))).T  \n",
    "    # to camera frame\n",
    "    traj_cam = np.matmul(H_inv, traj_homog)  \n",
    "    # to pixel coords\n",
    "    traj_uvz = np.transpose(traj_cam/traj_cam[2]) \n",
    "    return traj_uvz[:, :2].astype(int)    "
   ]
  },
  {
   "cell_type": "code",
   "execution_count": 2,
   "metadata": {},
   "outputs": [],
   "source": [
    "OPENTRAJ_ROOT = \"/home/linsea/motion_ws/src/motion_prediction/data/ETH_v1/\"\n",
    "train_y = \"043.csv\""
   ]
  },
  {
   "cell_type": "code",
   "execution_count": 20,
   "metadata": {},
   "outputs": [
    {
     "name": "stdout",
     "output_type": "stream",
     "text": [
      "[[10.12976, 6.1672099]]\n"
     ]
    }
   ],
   "source": [
    "df = pd.read_csv(OPENTRAJ_ROOT+train_y)\n",
    "pt = [[df['pos_x'][0], df['pos_y'][0]]]\n",
    "print(pt)"
   ]
  },
  {
   "cell_type": "code",
   "execution_count": 21,
   "metadata": {},
   "outputs": [
    {
     "name": "stdout",
     "output_type": "stream",
     "text": [
      "[[365 340]]\n"
     ]
    }
   ],
   "source": [
    "\n",
    "H = (np.loadtxt(os.path.join(OPENTRAJ_ROOT, \"H.txt\")))\n",
    "H_inv = np.linalg.inv(H)\n",
    "convert_pt = world2image(np.array(pt), H_inv)  # TRAJ: Tx2 numpy array\n",
    "print(convert_pt)"
   ]
  },
  {
   "cell_type": "code",
   "execution_count": 22,
   "metadata": {},
   "outputs": [],
   "source": [
    "img = cv2.imread(OPENTRAJ_ROOT+\"map.png\")\n",
    "img = cv2.cvtColor(img,cv2.COLOR_BGR2GRAY)\n",
    "for i in range(len(df)):\n",
    "  pt = [[df['pos_x'][i], df['pos_y'][i]]]\n",
    "  H = (np.loadtxt(os.path.join(OPENTRAJ_ROOT, \"H.txt\")))\n",
    "  H_inv = np.linalg.inv(H)\n",
    "  convert_pt = world2image(np.array(pt), H_inv)  # TRAJ: Tx2 numpy array\n",
    "  color = (0, 0, int(df['agent_id'][i]*2))\n",
    "  # img = cv2.circle(img, (convert_pt[0][1], convert_pt[0][0]), radius=1, color = color,thickness=-1)\n",
    "# img.shape\n",
    "# cv2.imshow('img',img)\n",
    "# cv2.waitKey(0)\n",
    "# cv2.destroyAllWindows()"
   ]
  },
  {
   "cell_type": "code",
   "execution_count": 23,
   "metadata": {},
   "outputs": [
    {
     "data": {
      "text/plain": [
       "(480, 640)"
      ]
     },
     "execution_count": 23,
     "metadata": {},
     "output_type": "execute_result"
    }
   ],
   "source": [
    "img.shape"
   ]
  },
  {
   "cell_type": "code",
   "execution_count": 26,
   "metadata": {},
   "outputs": [
    {
     "data": {
      "text/plain": [
       "(30, 30)"
      ]
     },
     "execution_count": 26,
     "metadata": {},
     "output_type": "execute_result"
    }
   ],
   "source": [
    "def get_map_feature(center_pt, map, cut_size=30):\n",
    "  x = center_pt[1]\n",
    "  y = center_pt[0]\n",
    "  helf_size = int(cut_size/2)\n",
    "  map_feature = []\n",
    "  for i in range(x - helf_size, x + helf_size):\n",
    "    for j in range(y - helf_size, y + helf_size):\n",
    "      map_feature.append(map[i][j])\n",
    "  map_feature = np.array(map_feature).reshape(cut_size, cut_size)\n",
    "  return np.array(map_feature)\n",
    "feature = get_map_feature([500,300], img)\n",
    "feature.shape"
   ]
  },
  {
   "cell_type": "code",
   "execution_count": 16,
   "metadata": {},
   "outputs": [
    {
     "ename": "TypeError",
     "evalue": "imshow() missing 1 required positional argument: 'X'",
     "output_type": "error",
     "traceback": [
      "\u001b[0;31m---------------------------------------------------------------------------\u001b[0m",
      "\u001b[0;31mTypeError\u001b[0m                                 Traceback (most recent call last)",
      "\u001b[1;32m/home/linsea/motion_ws/src/motion_prediction/script/transform.ipynb Cell 9\u001b[0m in \u001b[0;36m<cell line: 12>\u001b[0;34m()\u001b[0m\n\u001b[1;32m     <a href='vscode-notebook-cell:/home/linsea/motion_ws/src/motion_prediction/script/transform.ipynb#X11sZmlsZQ%3D%3D?line=9'>10</a>\u001b[0m   color \u001b[39m=\u001b[39m \u001b[39mint\u001b[39m(df[\u001b[39m'\u001b[39m\u001b[39magent_id\u001b[39m\u001b[39m'\u001b[39m][i]\u001b[39m%\u001b[39m\u001b[39m8\u001b[39m)\n\u001b[1;32m     <a href='vscode-notebook-cell:/home/linsea/motion_ws/src/motion_prediction/script/transform.ipynb#X11sZmlsZQ%3D%3D?line=10'>11</a>\u001b[0m   img \u001b[39m=\u001b[39m plt\u001b[39m.\u001b[39mscatter(convert_pt[\u001b[39m0\u001b[39m][\u001b[39m1\u001b[39m], convert_pt[\u001b[39m0\u001b[39m][\u001b[39m0\u001b[39m], c\u001b[39m=\u001b[39mc[color])\n\u001b[0;32m---> <a href='vscode-notebook-cell:/home/linsea/motion_ws/src/motion_prediction/script/transform.ipynb#X11sZmlsZQ%3D%3D?line=11'>12</a>\u001b[0m plt\u001b[39m.\u001b[39;49mimshow()\n",
      "\u001b[0;31mTypeError\u001b[0m: imshow() missing 1 required positional argument: 'X'"
     ]
    },
    {
     "data": {
      "image/png": "[encoded data removed]",
      "text/plain": [
       "<Figure size 432x288 with 1 Axes>"
      ]
     },
     "metadata": {
      "needs_background": "light"
     },
     "output_type": "display_data"
    }
   ],
   "source": [
    "img = mpimg.imread(OPENTRAJ_ROOT+'map.png')\n",
    "implot = plt.imshow(img, cmap='gray')\n",
    "c = ['c', 'b', 'g', 'r', 'm', 'y', 'k', 'w']\n",
    "\n",
    "for i in range(len(df)):\n",
    "  pt = [[df['pos_x'][i], df['pos_y'][i]]]\n",
    "  H = (np.loadtxt(os.path.join(OPENTRAJ_ROOT, \"H.txt\")))\n",
    "  H_inv = np.linalg.inv(H)\n",
    "  convert_pt = world2image(np.array(pt), H_inv)  # TRAJ: Tx2 numpy array\n",
    "  color = int(df['agent_id'][i]%8)\n",
    "  img = plt.scatter(convert_pt[0][1], convert_pt[0][0], c=c[color])\n",
    "plt.imshow()"
   ]
  },
  {
   "cell_type": "code",
   "execution_count": 20,
   "metadata": {},
   "outputs": [
    {
     "ename": "TypeError",
     "evalue": "'PathCollection' object is not subscriptable",
     "output_type": "error",
     "traceback": [
      "\u001b[0;31m---------------------------------------------------------------------------\u001b[0m",
      "\u001b[0;31mTypeError\u001b[0m                                 Traceback (most recent call last)",
      "\u001b[1;32m/home/linsea/motion_ws/src/motion_prediction/script/transform.ipynb Cell 8\u001b[0m in \u001b[0;36m<cell line: 1>\u001b[0;34m()\u001b[0m\n\u001b[0;32m----> <a href='vscode-notebook-cell:/home/linsea/motion_ws/src/motion_prediction/script/transform.ipynb#X10sZmlsZQ%3D%3D?line=0'>1</a>\u001b[0m \u001b[39mprint\u001b[39m(img[\u001b[39m365\u001b[39;49m][\u001b[39m340\u001b[39m])\n",
      "\u001b[0;31mTypeError\u001b[0m: 'PathCollection' object is not subscriptable"
     ]
    }
   ],
   "source": []
  },
  {
   "cell_type": "code",
   "execution_count": 3,
   "metadata": {},
   "outputs": [],
   "source": [
    "def get_map_feature_ETH(center_pt, map, h, cut_size=30):\n",
    "  pt = traj2pixal(center_pt, h)\n",
    "  x = pt[0][1]\n",
    "  y = pt[0][0]\n",
    "  helf_size = int(cut_size/2)\n",
    "  map_feature = []\n",
    "  for i in range(x - helf_size, x + helf_size):\n",
    "    for j in range(y - helf_size, y + helf_size):\n",
    "      print(i, j)\n",
    "      map_feature.append(map[i][j])\n",
    "  map_feature = np.array(map_feature).reshape(cut_size, cut_size)\n",
    "  return map_feature\n",
    "\n",
    "def traj2pixal(traj,h):\n",
    "  # h = (np.loadtxt(os.path.join(path_H)))\n",
    "  h_inv = np.linalg.inv(h)\n",
    "  traj_homog = np.hstack((traj, np.ones((traj.shape[0], 1)))).T\n",
    "  traj_cam = np.matmul(h_inv, traj_homog)  \n",
    "  traj_uvz = np.transpose(traj_cam/traj_cam[2])\n",
    "  return traj_uvz[:, :2].astype(int)    "
   ]
  },
  {
   "cell_type": "code",
   "execution_count": null,
   "metadata": {},
   "outputs": [],
   "source": []
  }
 ],
 "metadata": {
  "kernelspec": {
   "display_name": "Python 3.8.10 64-bit",
   "language": "python",
   "name": "python3"
  },
  "language_info": {
   "codemirror_mode": {
    "name": "ipython",
    "version": 3
   },
   "file_extension": ".py",
   "mimetype": "text/x-python",
   "name": "python",
   "nbconvert_exporter": "python",
   "pygments_lexer": "ipython3",
   "version": "3.8.10"
  },
  "orig_nbformat": 4,
  "vscode": {
   "interpreter": {
    "hash": "31f2aee4e71d21fbe5cf8b01ff0e069b9275f58929596ceb00d14d90e3e16cd6"
   }
  }
 },
 "nbformat": 4,
 "nbformat_minor": 2
}
